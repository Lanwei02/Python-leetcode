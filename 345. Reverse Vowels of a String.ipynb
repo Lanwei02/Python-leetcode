{
 "cells": [
  {
   "cell_type": "code",
   "execution_count": 69,
   "metadata": {
    "ExecuteTime": {
     "end_time": "2022-06-02T04:51:49.662688Z",
     "start_time": "2022-06-02T04:51:49.657959Z"
    }
   },
   "outputs": [],
   "source": [
    "class Solution:\n",
    "    def reverseVowels(s: str) -> str:\n",
    "        vowels = ['a', 'e', 'i', 'o', 'u']\n",
    "        i = 0\n",
    "        j = len(s)-1\n",
    "        sl = list(s)\n",
    "        while i < j:\n",
    "            if s[i].lower() not in vowels:\n",
    "                i = i +1\n",
    "            elif s[j].lower() not in vowels:\n",
    "                j = j -1\n",
    "            else:\n",
    "                a = sl[i]\n",
    "                b = sl[j]\n",
    "                sl[i] = b\n",
    "                sl[j] = a\n",
    "                i = i +1\n",
    "                j = j -1\n",
    "        return ''.join(sl)\n",
    "            "
   ]
  },
  {
   "cell_type": "code",
   "execution_count": 70,
   "metadata": {
    "ExecuteTime": {
     "end_time": "2022-06-02T04:51:50.020914Z",
     "start_time": "2022-06-02T04:51:50.016861Z"
    }
   },
   "outputs": [
    {
     "data": {
      "text/plain": [
       "'holle'"
      ]
     },
     "execution_count": 70,
     "metadata": {},
     "output_type": "execute_result"
    }
   ],
   "source": [
    "Solution.reverseVowels(\"hello\")"
   ]
  },
  {
   "cell_type": "code",
   "execution_count": 71,
   "metadata": {
    "ExecuteTime": {
     "end_time": "2022-06-02T04:51:50.427872Z",
     "start_time": "2022-06-02T04:51:50.424365Z"
    }
   },
   "outputs": [
    {
     "data": {
      "text/plain": [
       "'Bob: \"Did annA peep?\" annA: \"Did Bob?\"'"
      ]
     },
     "execution_count": 71,
     "metadata": {},
     "output_type": "execute_result"
    }
   ],
   "source": [
    "Solution.reverseVowels(\"Bob: \\\"Did Anna peep?\\\" Anna: \\\"Did Bob?\\\"\")"
   ]
  },
  {
   "cell_type": "code",
   "execution_count": 72,
   "metadata": {
    "ExecuteTime": {
     "end_time": "2022-06-02T04:51:51.651656Z",
     "start_time": "2022-06-02T04:51:51.647845Z"
    }
   },
   "outputs": [
    {
     "data": {
      "text/plain": [
       "['h', 'e', 'l', 'l', 'o']"
      ]
     },
     "execution_count": 72,
     "metadata": {},
     "output_type": "execute_result"
    }
   ],
   "source": [
    "list(\"hello\")"
   ]
  },
  {
   "cell_type": "code",
   "execution_count": 73,
   "metadata": {
    "ExecuteTime": {
     "end_time": "2022-06-02T04:51:52.356316Z",
     "start_time": "2022-06-02T04:51:52.353329Z"
    }
   },
   "outputs": [],
   "source": [
    "a = {1:'a', 2:'c'}"
   ]
  },
  {
   "cell_type": "code",
   "execution_count": 74,
   "metadata": {
    "ExecuteTime": {
     "end_time": "2022-06-02T04:51:52.658183Z",
     "start_time": "2022-06-02T04:51:52.654525Z"
    }
   },
   "outputs": [
    {
     "data": {
      "text/plain": [
       "<function dict.values>"
      ]
     },
     "execution_count": 74,
     "metadata": {},
     "output_type": "execute_result"
    }
   ],
   "source": [
    "a.values"
   ]
  },
  {
   "cell_type": "code",
   "execution_count": 75,
   "metadata": {
    "ExecuteTime": {
     "end_time": "2022-06-02T04:51:52.977917Z",
     "start_time": "2022-06-02T04:51:52.974222Z"
    }
   },
   "outputs": [
    {
     "data": {
      "text/plain": [
       "'ac'"
      ]
     },
     "execution_count": 75,
     "metadata": {},
     "output_type": "execute_result"
    }
   ],
   "source": [
    "\"\".join(a.values())"
   ]
  },
  {
   "cell_type": "code",
   "execution_count": 76,
   "metadata": {
    "ExecuteTime": {
     "end_time": "2022-06-02T04:51:53.206002Z",
     "start_time": "2022-06-02T04:51:53.202286Z"
    }
   },
   "outputs": [
    {
     "data": {
      "text/plain": [
       "'ac'"
      ]
     },
     "execution_count": 76,
     "metadata": {},
     "output_type": "execute_result"
    }
   ],
   "source": [
    "''.join(a.values())"
   ]
  },
  {
   "cell_type": "code",
   "execution_count": null,
   "metadata": {},
   "outputs": [],
   "source": []
  }
 ],
 "metadata": {
  "kernelspec": {
   "display_name": "Python 3",
   "language": "python",
   "name": "python3"
  },
  "language_info": {
   "codemirror_mode": {
    "name": "ipython",
    "version": 3
   },
   "file_extension": ".py",
   "mimetype": "text/x-python",
   "name": "python",
   "nbconvert_exporter": "python",
   "pygments_lexer": "ipython3",
   "version": "3.8.2"
  },
  "toc": {
   "base_numbering": 1,
   "nav_menu": {},
   "number_sections": true,
   "sideBar": true,
   "skip_h1_title": false,
   "title_cell": "Table of Contents",
   "title_sidebar": "Contents",
   "toc_cell": false,
   "toc_position": {},
   "toc_section_display": true,
   "toc_window_display": false
  }
 },
 "nbformat": 4,
 "nbformat_minor": 4
}
