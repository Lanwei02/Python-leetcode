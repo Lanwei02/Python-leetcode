{
 "cells": [
  {
   "cell_type": "code",
   "execution_count": 58,
   "metadata": {
    "ExecuteTime": {
     "end_time": "2022-06-05T20:52:44.865024Z",
     "start_time": "2022-06-05T20:52:44.859670Z"
    }
   },
   "outputs": [],
   "source": [
    "class Solution:\n",
    "    def validPalindrome(s: str) -> bool:\n",
    "        i = 0\n",
    "        j = len(s)-1\n",
    "        \n",
    "        def validsubstring(sub):\n",
    "            x = 0\n",
    "            y = len(sub)-1\n",
    "            while x < y:\n",
    "                if sub[x] != sub[y]:\n",
    "                    return False\n",
    "                x +=1\n",
    "                y -=1\n",
    "            return True\n",
    "        \n",
    "        while i < j:\n",
    "            if s[i] != s[j]:\n",
    "                remright = s[i+1:j+1]\n",
    "                remleft = s[i:j]\n",
    "                print(remright)\n",
    "                print(remleft)\n",
    "                return validsubstring(remright) or validsubstring(remleft)\n",
    "            i += 1\n",
    "            j -= 1\n",
    "        return True"
   ]
  },
  {
   "cell_type": "code",
   "execution_count": 59,
   "metadata": {
    "ExecuteTime": {
     "end_time": "2022-06-05T20:52:45.219970Z",
     "start_time": "2022-06-05T20:52:45.216897Z"
    }
   },
   "outputs": [
    {
     "data": {
      "text/plain": [
       "True"
      ]
     },
     "execution_count": 59,
     "metadata": {},
     "output_type": "execute_result"
    }
   ],
   "source": [
    "s = \"aba\"\n",
    "Solution.validPalindrome(s)"
   ]
  },
  {
   "cell_type": "code",
   "execution_count": 60,
   "metadata": {
    "ExecuteTime": {
     "end_time": "2022-06-05T20:52:45.535702Z",
     "start_time": "2022-06-05T20:52:45.530615Z"
    }
   },
   "outputs": [
    {
     "name": "stdout",
     "output_type": "stream",
     "text": [
      "c\n",
      "b\n"
     ]
    },
    {
     "data": {
      "text/plain": [
       "True"
      ]
     },
     "execution_count": 60,
     "metadata": {},
     "output_type": "execute_result"
    }
   ],
   "source": [
    "s = \"abca\"\n",
    "Solution.validPalindrome(s)"
   ]
  },
  {
   "cell_type": "code",
   "execution_count": 61,
   "metadata": {
    "ExecuteTime": {
     "end_time": "2022-06-05T20:52:45.869675Z",
     "start_time": "2022-06-05T20:52:45.865634Z"
    }
   },
   "outputs": [
    {
     "name": "stdout",
     "output_type": "stream",
     "text": [
      "bc\n",
      "ab\n"
     ]
    },
    {
     "data": {
      "text/plain": [
       "False"
      ]
     },
     "execution_count": 61,
     "metadata": {},
     "output_type": "execute_result"
    }
   ],
   "source": [
    "s = \"abc\"\n",
    "Solution.validPalindrome(s)"
   ]
  },
  {
   "cell_type": "code",
   "execution_count": 62,
   "metadata": {
    "ExecuteTime": {
     "end_time": "2022-06-05T20:52:46.310846Z",
     "start_time": "2022-06-05T20:52:46.306721Z"
    }
   },
   "outputs": [
    {
     "name": "stdout",
     "output_type": "stream",
     "text": [
      "aaaaabaaaaac\n",
      "aaaaaabaaaaa\n"
     ]
    },
    {
     "data": {
      "text/plain": [
       "False"
      ]
     },
     "execution_count": 62,
     "metadata": {},
     "output_type": "execute_result"
    }
   ],
   "source": [
    "s = \"aaaaaabaaaaac\"\n",
    "Solution.validPalindrome(s)"
   ]
  }
 ],
 "metadata": {
  "kernelspec": {
   "display_name": "Python 3",
   "language": "python",
   "name": "python3"
  },
  "language_info": {
   "codemirror_mode": {
    "name": "ipython",
    "version": 3
   },
   "file_extension": ".py",
   "mimetype": "text/x-python",
   "name": "python",
   "nbconvert_exporter": "python",
   "pygments_lexer": "ipython3",
   "version": "3.8.2"
  },
  "toc": {
   "base_numbering": 1,
   "nav_menu": {},
   "number_sections": true,
   "sideBar": true,
   "skip_h1_title": false,
   "title_cell": "Table of Contents",
   "title_sidebar": "Contents",
   "toc_cell": false,
   "toc_position": {},
   "toc_section_display": true,
   "toc_window_display": false
  }
 },
 "nbformat": 4,
 "nbformat_minor": 4
}
