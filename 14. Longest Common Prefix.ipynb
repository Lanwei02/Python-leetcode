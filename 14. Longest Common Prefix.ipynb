{
 "cells": [
  {
   "cell_type": "code",
   "execution_count": 7,
   "metadata": {},
   "outputs": [],
   "source": [
    "def longestCommonPrefix(strs):\n",
    "    if not strs:\n",
    "        return ''\n",
    "    res = ''\n",
    "    for i in range(len(strs[0])):\n",
    "        for j in range(1, len(strs)):\n",
    "            if i >= len(strs[j]) or strs[j][i] != strs[0][i]:\n",
    "                return res\n",
    "        res += strs[0][i]\n",
    "    return res\n"
   ]
  },
  {
   "cell_type": "code",
   "execution_count": 8,
   "metadata": {},
   "outputs": [
    {
     "data": {
      "text/plain": [
       "'fl'"
      ]
     },
     "execution_count": 8,
     "metadata": {},
     "output_type": "execute_result"
    }
   ],
   "source": [
    "longestCommonPrefix([\"flower\",\"flow\",\"flight\"])"
   ]
  },
  {
   "cell_type": "code",
   "execution_count": 29,
   "metadata": {},
   "outputs": [],
   "source": [
    "def longestCommonPrefix(strs):\n",
    "    if not strs:\n",
    "        return ''\n",
    "    res = ''\n",
    "    for i in range(len(strs[0])):\n",
    "        for j in range(1, len(strs)):\n",
    "            print('i: ', i)\n",
    "            print('j: ', j)\n",
    "            print('len(strs[j]): ', len(strs[j]))\n",
    "            if i == len(strs[j]) or strs[0][i] != strs[j][i]:\n",
    "                return res\n",
    "        res = res + strs[0][i]\n",
    "    return res\n",
    "            "
   ]
  },
  {
   "cell_type": "code",
   "execution_count": 30,
   "metadata": {},
   "outputs": [
    {
     "name": "stdout",
     "output_type": "stream",
     "text": [
      "i:  0\n",
      "j:  1\n",
      "len(strs[j]):  4\n",
      "i:  0\n",
      "j:  2\n",
      "len(strs[j]):  6\n",
      "i:  1\n",
      "j:  1\n",
      "len(strs[j]):  4\n",
      "i:  1\n",
      "j:  2\n",
      "len(strs[j]):  6\n",
      "i:  2\n",
      "j:  1\n",
      "len(strs[j]):  4\n",
      "i:  2\n",
      "j:  2\n",
      "len(strs[j]):  6\n"
     ]
    },
    {
     "data": {
      "text/plain": [
       "'fl'"
      ]
     },
     "execution_count": 30,
     "metadata": {},
     "output_type": "execute_result"
    }
   ],
   "source": [
    "longestCommonPrefix([\"flower\",\"flow\",\"flight\"])"
   ]
  },
  {
   "cell_type": "code",
   "execution_count": 31,
   "metadata": {},
   "outputs": [
    {
     "name": "stdout",
     "output_type": "stream",
     "text": [
      "i:  0\n",
      "j:  1\n",
      "len(strs[j]):  1\n",
      "i:  1\n",
      "j:  1\n",
      "len(strs[j]):  1\n"
     ]
    },
    {
     "data": {
      "text/plain": [
       "'a'"
      ]
     },
     "execution_count": 31,
     "metadata": {},
     "output_type": "execute_result"
    }
   ],
   "source": [
    "longestCommonPrefix([\"aa\",\"a\"])"
   ]
  },
  {
   "cell_type": "markdown",
   "metadata": {},
   "source": [
    "#### or 也是从左往右开始判断的"
   ]
  },
  {
   "cell_type": "code",
   "execution_count": null,
   "metadata": {},
   "outputs": [],
   "source": []
  }
 ],
 "metadata": {
  "kernelspec": {
   "display_name": "Python 3",
   "language": "python",
   "name": "python3"
  },
  "language_info": {
   "codemirror_mode": {
    "name": "ipython",
    "version": 3
   },
   "file_extension": ".py",
   "mimetype": "text/x-python",
   "name": "python",
   "nbconvert_exporter": "python",
   "pygments_lexer": "ipython3",
   "version": "3.6.8"
  }
 },
 "nbformat": 4,
 "nbformat_minor": 2
}
